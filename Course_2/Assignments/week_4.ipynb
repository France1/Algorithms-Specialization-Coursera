{
 "cells": [
  {
   "cell_type": "markdown",
   "metadata": {},
   "source": [
    "### Programming Assignment #4"
   ]
  },
  {
   "cell_type": "markdown",
   "metadata": {},
   "source": [
    "### 2 Sum problem"
   ]
  },
  {
   "cell_type": "code",
   "execution_count": null,
   "metadata": {},
   "outputs": [],
   "source": [
    "a = [1,2,3,1,3,4,5,5,6,7,5,8,7,9]\n",
    "\n",
    "d = {}\n",
    "for val in a:\n",
    "    if val not in d:\n",
    "        d[val] = 0\n",
    "    d[val] += 1\n",
    "print(d)"
   ]
  },
  {
   "cell_type": "code",
   "execution_count": null,
   "metadata": {},
   "outputs": [],
   "source": [
    "t = 10\n",
    "pairs = {}\n",
    "\n",
    "for num_1,count in d.items():\n",
    "    num_2 = t-num_1\n",
    "    pair = tuple(sorted((num_1,num_2)))\n",
    "    if num_2 in d:\n",
    "        if (pair not in pairs) and (num_1 != num_2):\n",
    "            pairs[pair] = count\n",
    "\n",
    "pairs = list(pairs.keys())\n",
    "print(pairs)"
   ]
  },
  {
   "cell_type": "markdown",
   "metadata": {},
   "source": [
    "### PA #4"
   ]
  },
  {
   "cell_type": "code",
   "execution_count": 87,
   "metadata": {},
   "outputs": [],
   "source": [
    "arr = []\n",
    "with open('2Sum.txt') as f:\n",
    "    for l in f:\n",
    "        arr.append(int(l.strip()))\n",
    "\n",
    "h = set(arr) \n",
    "h = sorted(h)\n",
    "\n",
    "sum2 = {}"
   ]
  },
  {
   "cell_type": "code",
   "execution_count": 7,
   "metadata": {},
   "outputs": [],
   "source": [
    "##### course lession implementation: takes forever\n",
    "\n",
    "# for t_i in t:\n",
    "#     print(t_i)\n",
    "#     for x1 in h:\n",
    "#         x2 = t_i-x1\n",
    "#         if x2 in h:\n",
    "#             sum2[t_i] = (x1,x2)\n",
    "#             print('match', x1, x2)\n",
    "#             break\n",
    "#         else:\n",
    "#             continue"
   ]
  },
  {
   "cell_type": "code",
   "execution_count": 94,
   "metadata": {},
   "outputs": [
    {
     "name": "stdout",
     "output_type": "stream",
     "text": [
      "0.622765064239502\n",
      "427\n"
     ]
    }
   ],
   "source": [
    "# suggestions from\n",
    "# https://www.coursera.org/learn/algorithms-graphs-data-structures/discussions/weeks/4/threads/RfgVqzPUSMa4Fasz1MjGyQ\n",
    "# https://www.coursera.org/learn/algorithms-graphs-data-structures/discussions/weeks/4/threads/R0mqsc5ZEeaLlxIxQzb3sA\n",
    "# takes milliseconds\n",
    "from bisect import bisect_left\n",
    "from time import time\n",
    "\n",
    "start = time()\n",
    "for x in h:\n",
    "    # find left index of -10000-x in h using binary search\n",
    "    i_low = bisect_left(h,-10000-x) \n",
    "    if i_low < len(h):\n",
    "        j = i_low\n",
    "        # iterate j while x+h[j] is in [-10000,10000] \n",
    "        while (x+h[j]>=-10000) and (x+h[j]<=10000):\n",
    "            # store x+[j] only if not already found\n",
    "            if x+h[j] not in sum2:\n",
    "                sum2[x+h[j]] = (x,h[j])\n",
    "            j += 1\n",
    "            if j > len(h)-1:\n",
    "                break\n",
    "    if x>5000:\n",
    "        break\n",
    "print(time()-start)           \n",
    "print(len(sum2))   "
   ]
  },
  {
   "cell_type": "code",
   "execution_count": 97,
   "metadata": {},
   "outputs": [
    {
     "data": {
      "text/plain": [
       "0.021415847120683718"
      ]
     },
     "execution_count": 97,
     "metadata": {},
     "output_type": "execute_result"
    }
   ],
   "source": [
    "import numpy as np\n",
    "\n",
    "0.5**(np.log(2)*8)"
   ]
  },
  {
   "cell_type": "code",
   "execution_count": 99,
   "metadata": {},
   "outputs": [
    {
     "data": {
      "text/plain": [
       "0.04"
      ]
     },
     "execution_count": 99,
     "metadata": {},
     "output_type": "execute_result"
    }
   ],
   "source": [
    "0.02**2*100"
   ]
  },
  {
   "cell_type": "code",
   "execution_count": null,
   "metadata": {},
   "outputs": [],
   "source": []
  }
 ],
 "metadata": {
  "kernelspec": {
   "display_name": "Python 3",
   "language": "python",
   "name": "python3"
  },
  "language_info": {
   "codemirror_mode": {
    "name": "ipython",
    "version": 3
   },
   "file_extension": ".py",
   "mimetype": "text/x-python",
   "name": "python",
   "nbconvert_exporter": "python",
   "pygments_lexer": "ipython3",
   "version": "3.7.5"
  }
 },
 "nbformat": 4,
 "nbformat_minor": 4
}
