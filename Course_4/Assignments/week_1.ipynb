{
 "cells": [
  {
   "cell_type": "markdown",
   "id": "abroad-large",
   "metadata": {},
   "source": [
    "### PA #1"
   ]
  },
  {
   "cell_type": "code",
   "execution_count": 187,
   "id": "compound-fusion",
   "metadata": {},
   "outputs": [],
   "source": [
    "import networkx as nx\n",
    "from time import time"
   ]
  },
  {
   "cell_type": "markdown",
   "id": "helpful-store",
   "metadata": {},
   "source": [
    "### Bellman-Ford"
   ]
  },
  {
   "cell_type": "code",
   "execution_count": 131,
   "id": "jewish-briefs",
   "metadata": {},
   "outputs": [],
   "source": [
    "# adj = [\n",
    "#     [1,2,2],\n",
    "#     [1,3,4],\n",
    "#     [2,3,1],\n",
    "#     [2,4,2],\n",
    "#     [3,5,4],\n",
    "#     [4,5,2]\n",
    "# ]\n",
    "\n",
    "# adj = [\n",
    "#     [1,2,2],\n",
    "#     [1,3,4],\n",
    "#     [2,3,1],\n",
    "#     [2,4,2],\n",
    "#     [3,5,4],\n",
    "#     [4,5,2],\n",
    "#     [5,6,-2],\n",
    "#     [6,4,-1]\n",
    "# ]\n",
    "\n",
    "# adj = [\n",
    "#     [1, 2, 1], \n",
    "#     [1, 3, 4], \n",
    "#     [2, 4, 2], \n",
    "#     [3, 4, 3], \n",
    "#     [4, 1, -4]\n",
    "# ]\n",
    "\n",
    "adj = [\n",
    "    [1, 2, 1], \n",
    "    [1, 3, 4], \n",
    "    [2, 4, 2], \n",
    "    [3, 4, 3], \n",
    "    [4, 1, -2]\n",
    "]"
   ]
  },
  {
   "cell_type": "code",
   "execution_count": 132,
   "id": "inclusive-sunglasses",
   "metadata": {},
   "outputs": [
    {
     "name": "stdout",
     "output_type": "stream",
     "text": [
      "[1, 2, 3, 4]\n",
      "\n",
      "2 : [(1, 1)]\n",
      "3 : [(1, 4)]\n",
      "4 : [(2, 2), (3, 3)]\n",
      "1 : [(4, -2)]\n"
     ]
    }
   ],
   "source": [
    "def initialize_graph(adj):\n",
    "\n",
    "    g_in = {}\n",
    "    nodes = set()\n",
    "\n",
    "    for (u,v,c) in adj:\n",
    "        nodes.add(u)\n",
    "        nodes.add(v)\n",
    "        if v not in g_in:\n",
    "            g_in[v] = []\n",
    "        g_in[v].append((u,c))\n",
    "\n",
    "    nodes = list(nodes)\n",
    "    nodes_to_ix = {n:i for i,n in enumerate(nodes)}\n",
    "    \n",
    "    return nodes, g_in, nodes_to_ix\n",
    "\n",
    "nodes, g_in, nodes_to_ix = initialize_graph(adj)\n",
    "\n",
    "print(nodes)\n",
    "print('')\n",
    "for k,v in g_in.items():\n",
    "    print(k,':', v)"
   ]
  },
  {
   "cell_type": "code",
   "execution_count": 133,
   "id": "sonic-territory",
   "metadata": {},
   "outputs": [
    {
     "name": "stdout",
     "output_type": "stream",
     "text": [
      "[0, 1, 4, 3]\n"
     ]
    }
   ],
   "source": [
    "def bellman_ford(s, nodes, g_in, nodes_to_ix):\n",
    "    \n",
    "    A = [[float('inf'),]*len(nodes)]\n",
    "    A[0][nodes_to_ix[s]] = 0\n",
    "    neg_cycle = False\n",
    "\n",
    "    for i in range(1,len(nodes)+1):\n",
    "        a_i = []\n",
    "        for i_n,n in enumerate(nodes): \n",
    "            l_prev = A[i-1][i_n]\n",
    "            if n not in g_in:\n",
    "                l_new = float('inf')\n",
    "            else:\n",
    "                l_new = min([A[i-1][nodes_to_ix[w]]+e_wv for w,e_wv in g_in[n]])\n",
    "            a_i.append(min(l_prev, l_new))\n",
    "\n",
    "        # early stop if there are no path updates\n",
    "        if a_i==A[-1]:\n",
    "            break\n",
    "        else:\n",
    "            A.append(a_i)\n",
    "\n",
    "        # detect negative cycles: at i=|V| distances decreased\n",
    "        if i==len(nodes):\n",
    "            for l_prev, l in zip(A[i-1],a_i):\n",
    "                if l<l_prev:\n",
    "                    neg_cycle = True\n",
    "    \n",
    "    if not neg_cycle:\n",
    "        return A[-1]\n",
    "    else:\n",
    "        return False\n",
    "    \n",
    "nodes, g_in, nodes_to_ix = initialize_graph(adj)            \n",
    "res = bellman_ford(1, nodes, g_in, nodes_to_ix)\n",
    "print(res)"
   ]
  },
  {
   "cell_type": "code",
   "execution_count": 135,
   "id": "guilty-performance",
   "metadata": {},
   "outputs": [],
   "source": [
    "# reweighting\n",
    "# adj = [\n",
    "#     [1,2,-2],\n",
    "#     [2,3,-1],\n",
    "#     [3,1,4],\n",
    "#     [3,4,2],\n",
    "#     [3,5,-3],\n",
    "#     [6,4,1],\n",
    "#     [6,5,-4]\n",
    "# ]\n",
    "\n",
    "def reweight(adj):\n",
    "    \n",
    "    # initialize original graph g\n",
    "    nodes, g_in, nodes_to_ix = initialize_graph(adj)\n",
    "    # create graph g_1 by adding new vertex 0\n",
    "    adj_rw = [[0,n,0] for n in nodes]\n",
    "    adj_rw = adj_rw+adj\n",
    "    # run bellman_ford shortest paths on g_1 form vertex 0\n",
    "    nodes_rw, g_in_rw, nodes_to_ix_rw = initialize_graph(adj_rw)\n",
    "    res = bellman_ford(0, nodes_rw, g_in_rw, nodes_to_ix_rw)\n",
    "    if res:\n",
    "        dist_rw = {n:d for (n,d) in zip(nodes,res[1:])}\n",
    "        # compute new weights on original graph g\n",
    "        adj_rw = []\n",
    "        for (u,v,c) in adj:\n",
    "            c_1 = c + dist_rw[u] - dist_rw[v]\n",
    "            adj_rw.append([u,v,c_1]) \n",
    "        return adj_rw, dist_rw\n",
    "    else:\n",
    "        return False\n",
    "\n",
    "res = reweight(adj)\n",
    "if res:\n",
    "    adj_rw, dist_rw = res[0], res[1]"
   ]
  },
  {
   "cell_type": "code",
   "execution_count": 136,
   "id": "meaningful-truck",
   "metadata": {},
   "outputs": [
    {
     "data": {
      "text/plain": [
       "([[1, 2, 0], [1, 3, 2], [2, 4, 1], [3, 4, 3], [4, 1, 0]],\n",
       " {1: -2, 2: -1, 3: 0, 4: 0})"
      ]
     },
     "execution_count": 136,
     "metadata": {},
     "output_type": "execute_result"
    }
   ],
   "source": [
    "res"
   ]
  },
  {
   "cell_type": "markdown",
   "id": "complex-speech",
   "metadata": {},
   "source": [
    "### Dijkstra"
   ]
  },
  {
   "cell_type": "code",
   "execution_count": 137,
   "id": "coordinate-length",
   "metadata": {},
   "outputs": [
    {
     "name": "stdout",
     "output_type": "stream",
     "text": [
      "{1: 0, 2: 0, 4: 1, 3: 2}\n",
      "{1: [1], 2: [1, 2], 3: [1, 3], 4: [1, 2, 4]}\n"
     ]
    }
   ],
   "source": [
    "def dijkstra(adj,s=1):\n",
    "    \n",
    "    # initialize directed graph\n",
    "    G = nx.DiGraph()\n",
    "    for e in adj:\n",
    "        G.add_edge(e[0],e[1],weight=e[2])\n",
    "    distance,path = nx.single_source_dijkstra(G,source=s, weight='weight')\n",
    "    \n",
    "    return distance,path\n",
    "        \n",
    "distance,path = dijkstra(adj_rw,s=1)\n",
    "print(distance)\n",
    "print(path)"
   ]
  },
  {
   "cell_type": "markdown",
   "id": "revised-broad",
   "metadata": {},
   "source": [
    "### Single Source Johnson's Algorithm"
   ]
  },
  {
   "cell_type": "code",
   "execution_count": 143,
   "id": "mineral-malta",
   "metadata": {},
   "outputs": [
    {
     "name": "stdout",
     "output_type": "stream",
     "text": [
      "{1: 0, 2: -2, 3: -3, 4: -1, 5: -6, 6: inf}\n"
     ]
    }
   ],
   "source": [
    "adj = [\n",
    "    [1,2,-2],\n",
    "    [2,3,-1],\n",
    "    [3,1,4],\n",
    "    [3,4,2],\n",
    "    [3,5,-3],\n",
    "    [6,4,1],\n",
    "    [6,5,-4]\n",
    "]\n",
    "\n",
    "nodes, _, _ = initialize_graph(adj)\n",
    "res = reweight(adj)\n",
    "if res:\n",
    "    adj_rw, dist_rw = res[0],res[1]\n",
    "    distance,path = dijkstra(adj_rw,s=1)\n",
    "\n",
    "    shortest_paths = {}\n",
    "    for n in nodes:\n",
    "        if n in distance:\n",
    "            shortest_paths[n] = distance[n]-dist_rw[s]+dist_rw[n]\n",
    "        else:\n",
    "            shortest_paths[n] = float('inf')\n",
    "else:\n",
    "    shortest_paths = False\n",
    "print(shortest_paths)"
   ]
  },
  {
   "cell_type": "markdown",
   "id": "available-heather",
   "metadata": {},
   "source": [
    "### All Pairs Johnson's Algorithm"
   ]
  },
  {
   "cell_type": "code",
   "execution_count": 192,
   "id": "numerous-ordinance",
   "metadata": {},
   "outputs": [
    {
     "name": "stdout",
     "output_type": "stream",
     "text": [
      "-19\n",
      "elapsed =  84.4589900970459\n"
     ]
    }
   ],
   "source": [
    "# assignment data\n",
    "adj = []\n",
    "with open('g3.txt') as f:\n",
    "    for i,l in enumerate(f):\n",
    "        l = tuple(map(int, l.split()))\n",
    "        if i!=0:\n",
    "            adj.append(l)\n",
    "\n",
    "start = time()\n",
    "shortest_path = float('inf')\n",
    "nodes, _, _ = initialize_graph(adj)\n",
    "res = reweight(adj)\n",
    "if res:\n",
    "    adj_rw, dist_rw = res[0],res[1]\n",
    "    \n",
    "    for v in nodes:\n",
    "        distance,path = dijkstra(adj_rw,s=v)\n",
    "        # correct shortest paths using reweighted distances\n",
    "        shortest_paths = {}\n",
    "        for n in nodes:\n",
    "            if n in distance:\n",
    "                shortest_paths[n] = distance[n]-dist_rw[v]+dist_rw[n]\n",
    "            else:\n",
    "                shortest_paths[n] = float('inf')\n",
    "        min_path = min(shortest_paths.values())\n",
    "        if min_path < shortest_path:\n",
    "            shortest_path = min_path\n",
    "else:\n",
    "    shortest_path = False\n",
    "    \n",
    "print(shortest_path)\n",
    "print('elapsed = ', time()-start)"
   ]
  },
  {
   "cell_type": "markdown",
   "id": "productive-insulation",
   "metadata": {},
   "source": [
    "### Compare with All Pairs Bellman-Ford Algorithm"
   ]
  },
  {
   "cell_type": "code",
   "execution_count": 193,
   "id": "opposed-eligibility",
   "metadata": {},
   "outputs": [
    {
     "name": "stdout",
     "output_type": "stream",
     "text": [
      "-19\n",
      "elapsed =  225.40319895744324\n"
     ]
    }
   ],
   "source": [
    "start = time()\n",
    "shortest_path = float('inf')\n",
    "\n",
    "nodes, g_in, nodes_to_ix = initialize_graph(adj)  \n",
    "for v in nodes:\n",
    "    res = bellman_ford(v, nodes, g_in, nodes_to_ix)\n",
    "    min_path = min(res)\n",
    "    if min_path < shortest_path:\n",
    "            shortest_path = min_path\n",
    "\n",
    "print(shortest_path)\n",
    "print('elapsed = ', time()-start)"
   ]
  },
  {
   "cell_type": "code",
   "execution_count": null,
   "id": "deadly-sussex",
   "metadata": {},
   "outputs": [],
   "source": []
  }
 ],
 "metadata": {
  "kernelspec": {
   "display_name": "Python 3",
   "language": "python",
   "name": "python3"
  },
  "language_info": {
   "codemirror_mode": {
    "name": "ipython",
    "version": 3
   },
   "file_extension": ".py",
   "mimetype": "text/x-python",
   "name": "python",
   "nbconvert_exporter": "python",
   "pygments_lexer": "ipython3",
   "version": "3.7.9"
  }
 },
 "nbformat": 4,
 "nbformat_minor": 5
}
