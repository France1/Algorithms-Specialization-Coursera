{
 "cells": [
  {
   "cell_type": "markdown",
   "metadata": {},
   "source": [
    "### PA1-1&2: Scheduling"
   ]
  },
  {
   "cell_type": "code",
   "execution_count": 18,
   "metadata": {},
   "outputs": [
    {
     "name": "stdout",
     "output_type": "stream",
     "text": [
      "weighted cost =  67311454237\n"
     ]
    }
   ],
   "source": [
    "import heapq\n",
    "\n",
    "def heap_sort(arr):\n",
    "    # using heapify to convert list into heap \n",
    "    heapq.heapify(arr) \n",
    "    # sort array usign extract-min operation\n",
    "    return [heapq.heappop(arr) for i in range(len(arr))]\n",
    "\n",
    "def make_schedule(scores):\n",
    "    # sort scores by decreasing order into a dictionary to narrow down duplicates \n",
    "    heapq.heapify(scores)   \n",
    "    d_scores = {}   \n",
    "    while len(scores)>0:\n",
    "        score = heapq.heappop(scores)\n",
    "        if -score[0] not in d_scores:\n",
    "            d_scores[-score[0]] = []\n",
    "        d_scores[-score[0]].append(score[1:])\n",
    "    # make schedule: if duplicated scores exist sort by decreasing job weight\n",
    "    schedule = []\n",
    "    for k,j in d_scores.items():\n",
    "        if len(j)>1:\n",
    "            j = heap_sort([(-1*w,l) for w,l in j])\n",
    "            j = [(-1*w,l) for w,l in j]\n",
    "            d_scores[k] = j\n",
    "        schedule.extend(j)\n",
    "    return schedule\n",
    "\n",
    "def cost(jobs):\n",
    "    C,wC = 0,0\n",
    "    for w,l in jobs:\n",
    "        C += l\n",
    "        wC += C*w\n",
    "    return wC\n",
    "\n",
    "# Test case\n",
    "# jobs = [(8,50),(74,59),(31,73),(45,79),(24,10),(41,66),(93,43),(88,4),(28,30),(41,13),(4,70),(10,58)]\n",
    "# Assignment data\n",
    "jobs = []\n",
    "with open('Jobs.txt') as f:\n",
    "    for i,l in enumerate(f):\n",
    "        if i!=0:\n",
    "            jobs.append(tuple(map(int,l.strip().split())))\n",
    "\n",
    "# 1. COMPUTE SCORES\n",
    "# scores = [(-1*(w-l),w,l) for (w,l) in jobs]\n",
    "scores = [(-1*(w/l),w,l) for (w,l) in jobs]\n",
    "# 1. OPTIMAL SCHEDULE\n",
    "schedule = make_schedule(scores) \n",
    "# 2. WEIGHTED COST\n",
    "print('weighted cost = ',cost(schedule))"
   ]
  },
  {
   "cell_type": "markdown",
   "metadata": {},
   "source": [
    "### PA1-3: Prim's MST"
   ]
  },
  {
   "cell_type": "code",
   "execution_count": 8,
   "metadata": {},
   "outputs": [],
   "source": [
    "# adj = '''\n",
    "# 1 2 6\n",
    "# 1 4 5\n",
    "# 1 5 4\n",
    "# 2 4 1\n",
    "# 2 5 2\n",
    "# 2 3 5 \n",
    "# 2 6 3\n",
    "# 3 6 4\n",
    "# 4 5 2\n",
    "# 5 6 4\n",
    "# '''\n",
    "\n",
    "# g = {}\n",
    "# for i,l in enumerate(adj.split('\\n')):\n",
    "#     if (len(l)>0) and i!=0:\n",
    "#         v1,v2,c = tuple(map(int,l.split()))\n",
    "#         if v1 not in g:\n",
    "#             g[v1] = set()\n",
    "#         g[v1].add((v2,c))\n",
    "#         if v2 not in g:\n",
    "#             g[v2] = set()\n",
    "#         g[v2].add((v1,c))"
   ]
  },
  {
   "cell_type": "code",
   "execution_count": 19,
   "metadata": {},
   "outputs": [],
   "source": [
    "g = {}\n",
    "with open('Edges.txt') as f:\n",
    "    for i,l in enumerate(f):\n",
    "        if i!=0:\n",
    "            v1,v2,c = tuple(map(int,l.split()))\n",
    "            if v1 not in g:\n",
    "                g[v1] = set()\n",
    "            g[v1].add((v2,c))\n",
    "            if v2 not in g:\n",
    "                g[v2] = set()\n",
    "            g[v2].add((v1,c))"
   ]
  },
  {
   "cell_type": "code",
   "execution_count": 23,
   "metadata": {},
   "outputs": [],
   "source": [
    "V = set(g.keys())\n",
    "X = set()\n",
    "T = []\n",
    "A = [10000 for i in range(len(V)+1)]\n",
    "\n",
    "# initialize source node\n",
    "s = 1\n",
    "X.add(s)\n",
    "\n",
    "# initialize heap := (cost, node1, node2)\n",
    "h = []\n",
    "d_h = {}\n",
    "i=0\n",
    "for v in V:\n",
    "    if v!=s:\n",
    "        d_h[v] = i\n",
    "        h.append((10000,10000,v)) # assign 10000 to initial values of cost,node1\n",
    "        i+=1\n",
    "# assign keys to heap edges starting in source node\n",
    "for w,c in g[s]:\n",
    "    i = d_h[w]\n",
    "    h[i] = (c,s,w)\n",
    "\n",
    "heapq.heapify(h)\n",
    "# print(h)"
   ]
  },
  {
   "cell_type": "code",
   "execution_count": 21,
   "metadata": {},
   "outputs": [],
   "source": [
    "# heap implementation\n",
    "# Disclaimer: heap deletion is done in log(n) time, which kills benefit of using heap to select optimal node\n",
    "while h:\n",
    "\n",
    "    c, v1, v2 = heapq.heappop(h)\n",
    "    T.append(((v1,v2),c))\n",
    "#     print('extracted', c,v1,v2)\n",
    "    X.add(v2)\n",
    "\n",
    "    for w,c_w in g[v2]:\n",
    "        if w not in X:\n",
    "#             print(v2,w)\n",
    "            # delete w from heap: log(n). Is it possible store ix in d_h?\n",
    "            for i,(c,w1,w2) in enumerate(h):\n",
    "                if w==w2:\n",
    "                    ix=i\n",
    "            h[ix] = h[-1]\n",
    "            h.pop()\n",
    "            heapq.heapify(h)\n",
    "            # recompute key\n",
    "            new_c = min(A[w],c_w)\n",
    "            # re-insert into heap\n",
    "            heapq.heappush(h,(new_c,v2,w))\n",
    "            A[w] = new_c\n",
    "#     print(h)"
   ]
  },
  {
   "cell_type": "code",
   "execution_count": 22,
   "metadata": {},
   "outputs": [
    {
     "name": "stdout",
     "output_type": "stream",
     "text": [
      "-3612829\n"
     ]
    }
   ],
   "source": [
    "mst = 0\n",
    "for e,c in T:\n",
    "    mst += c\n",
    "print(mst)"
   ]
  },
  {
   "cell_type": "code",
   "execution_count": null,
   "metadata": {},
   "outputs": [],
   "source": []
  }
 ],
 "metadata": {
  "kernelspec": {
   "display_name": "Python 3",
   "language": "python",
   "name": "python3"
  },
  "language_info": {
   "codemirror_mode": {
    "name": "ipython",
    "version": 3
   },
   "file_extension": ".py",
   "mimetype": "text/x-python",
   "name": "python",
   "nbconvert_exporter": "python",
   "pygments_lexer": "ipython3",
   "version": "3.7.9"
  }
 },
 "nbformat": 4,
 "nbformat_minor": 2
}
