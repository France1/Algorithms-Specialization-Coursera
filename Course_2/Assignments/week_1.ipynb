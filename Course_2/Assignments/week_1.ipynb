{
 "cells": [
  {
   "cell_type": "markdown",
   "metadata": {},
   "source": [
    "### Breadth-First Search"
   ]
  },
  {
   "cell_type": "code",
   "execution_count": 4,
   "metadata": {},
   "outputs": [],
   "source": [
    "from collections import deque\n",
    "\n",
    "def BFS(graph,s):\n",
    "    # initialize data structures\n",
    "    explored = []\n",
    "    queue = deque()\n",
    "    # start to explore at s\n",
    "    explored.append(s)\n",
    "    queue.append(s)\n",
    "    # iterate through graph \n",
    "    while len(queue)>0:\n",
    "        v = queue.popleft()\n",
    "        for w in graph[v]:\n",
    "            if w not in explored:\n",
    "                explored.append(w)\n",
    "                queue.append(w)\n",
    "    return explored"
   ]
  },
  {
   "cell_type": "code",
   "execution_count": null,
   "metadata": {},
   "outputs": [],
   "source": [
    "adj = [\n",
    "    [1,2,3],\n",
    "    [2,1,4],\n",
    "    [3,1,4,5],\n",
    "    [4,2,3,5,6],\n",
    "    [5,3,4,6],\n",
    "    [6,4,5]\n",
    "]\n",
    "graph = {a[0]:a[1:] for a in adj}\n",
    "\n",
    "e = BFS(graph,1)\n",
    "e"
   ]
  },
  {
   "cell_type": "markdown",
   "metadata": {},
   "source": [
    "### Depth-First Search Iterative"
   ]
  },
  {
   "cell_type": "code",
   "execution_count": null,
   "metadata": {},
   "outputs": [],
   "source": [
    "def DFS(graph, s):\n",
    "    # initialize data structures\n",
    "    visited = []\n",
    "    stack = deque()\n",
    "    # start to explore at s\n",
    "    stack.append(s)\n",
    "    # iterate through graph \n",
    "    while len(stack)>0:\n",
    "        v = stack.pop()\n",
    "        if v not in visited:\n",
    "            visited.append(v)\n",
    "        for w in graph[v]:\n",
    "            if w not in visited:\n",
    "                stack.append(w)\n",
    "    return visited"
   ]
  },
  {
   "cell_type": "code",
   "execution_count": null,
   "metadata": {},
   "outputs": [],
   "source": [
    "adj = [\n",
    "    [1,2,3],\n",
    "    [2,1,4],\n",
    "    [3,1,4,5],\n",
    "    [4,2,3,5,6],\n",
    "    [5,3,4,6],\n",
    "    [6,4,5]\n",
    "]\n",
    "graph = {a[0]:a[1:] for a in adj}\n",
    "v = DFS(graph,2)\n",
    "print(v)"
   ]
  },
  {
   "cell_type": "markdown",
   "metadata": {},
   "source": [
    "### Depth-First Search Recursive"
   ]
  },
  {
   "cell_type": "code",
   "execution_count": null,
   "metadata": {},
   "outputs": [],
   "source": [
    "def DFS(graph,s,visited=[]):\n",
    "    \n",
    "    visited.append(s)\n",
    "    for v in graph[s]:\n",
    "        if v not in visited:\n",
    "            DFS(graph,v,visited)\n",
    "            \n",
    "    return visited"
   ]
  },
  {
   "cell_type": "code",
   "execution_count": null,
   "metadata": {},
   "outputs": [],
   "source": [
    "adj = [\n",
    "    [1,2,3],\n",
    "    [2,1,4],\n",
    "    [3,1,4,5],\n",
    "    [4,2,3,5,6],\n",
    "    [5,3,4,6],\n",
    "    [6,4,5]\n",
    "]\n",
    "graph = {a[0]:a[1:] for a in adj}\n",
    "v = DFS(graph,2)\n",
    "print(v)"
   ]
  },
  {
   "cell_type": "markdown",
   "metadata": {},
   "source": [
    "### Topological Sort"
   ]
  },
  {
   "cell_type": "code",
   "execution_count": 49,
   "metadata": {},
   "outputs": [],
   "source": [
    "def DFS_Topo(graph,s,visited,order):\n",
    "#     print(s)\n",
    "    visited.append(s)\n",
    "\n",
    "    for v in graph[s]:\n",
    "        if v not in visited:\n",
    "            DFS_Topo(graph,v,visited,order)\n",
    "    # insert s in first position        \n",
    "    order.insert(0,s)\n",
    "#     print(f'end of DFS_Topo call: node={s}, order={order}')\n",
    "    \n",
    "def TopoSort(graph):\n",
    "    \n",
    "    visited, order = [],[]\n",
    "    \n",
    "    for v in graph:\n",
    "        if v not in visited:\n",
    "            DFS_Topo(graph,v,visited,order)\n",
    "            \n",
    "    return order"
   ]
  },
  {
   "cell_type": "code",
   "execution_count": 50,
   "metadata": {},
   "outputs": [
    {
     "name": "stdout",
     "output_type": "stream",
     "text": [
      "[0, 1, 2, 3, 4]\n"
     ]
    }
   ],
   "source": [
    "adj = [\n",
    "    [3,4],\n",
    "    [4],\n",
    "    [0,1,3],\n",
    "    [1,2],\n",
    "    [2,3,4],\n",
    "]\n",
    "\n",
    "graph = {a[0]:a[1:] for a in adj}\n",
    "order = TopoSort(graph)\n",
    "print(order)"
   ]
  },
  {
   "cell_type": "code",
   "execution_count": 51,
   "metadata": {},
   "outputs": [
    {
     "name": "stdout",
     "output_type": "stream",
     "text": [
      "{1: 1, 3: 2, 11: 3, 5: 4, 7: 5, 9: 6, 2: 7, 10: 8, 8: 9, 6: 10, 4: 11}\n"
     ]
    }
   ],
   "source": [
    "adj = [\n",
    "    [1,3],\n",
    "    [2,4,10],\n",
    "    [3,5,11],\n",
    "    [4,7],\n",
    "    [5,1,7,9],\n",
    "    [6,10],\n",
    "    [7,9],\n",
    "    [8,6],\n",
    "    [9,4,2,8],\n",
    "    [10,8],\n",
    "    [11,6,8]\n",
    "]\n",
    "graph = {a[0]:a[1:] for a in adj}\n",
    "order = TopoSort(graph)\n",
    "print({order[i]:i+1 for i in range(len(order))})"
   ]
  },
  {
   "cell_type": "markdown",
   "metadata": {},
   "source": [
    "### Strongly Connected Components"
   ]
  },
  {
   "cell_type": "code",
   "execution_count": 52,
   "metadata": {},
   "outputs": [],
   "source": [
    "def reverse_graph(graph):\n",
    "    ### Better implementation without reversing graph: run DFS_topo on incoming edge list\n",
    "    graph_rev = {k:[] for k in graph.keys()}\n",
    "    for node,out_nodes in graph.items():\n",
    "        for out_node in out_nodes:\n",
    "            graph_rev[out_node].append(node)\n",
    "            \n",
    "    return graph_rev\n",
    "\n",
    "def DFS_SCC(graph,s,c,visited,scc):\n",
    "    print(s,c)\n",
    "    visited.append(s)\n",
    "    scc[s] = c\n",
    "\n",
    "    for v in graph[s]:\n",
    "        if v not in visited:\n",
    "            DFS_SCC(graph,v,c,visited,scc)\n",
    "\n",
    "def Kosaraju(graph):\n",
    "    \n",
    "    graph_rev = reverse_graph(graph)\n",
    "    order = TopoSort(graph_rev)\n",
    "    \n",
    "    visited = []\n",
    "    scc = {}\n",
    "    c = 0\n",
    "\n",
    "    for v in order:\n",
    "        if v not in visited:\n",
    "            c += 1\n",
    "            DFS_SCC(graph,v,c,visited,scc)\n",
    "    \n",
    "    return scc\n",
    "            "
   ]
  },
  {
   "cell_type": "code",
   "execution_count": 53,
   "metadata": {},
   "outputs": [
    {
     "name": "stdout",
     "output_type": "stream",
     "text": [
      "1 1\n",
      "4 1\n",
      "7 1\n",
      "9 2\n",
      "3 2\n",
      "6 2\n",
      "8 3\n",
      "5 3\n",
      "2 3\n",
      "{1: 1, 4: 1, 7: 1, 9: 2, 3: 2, 6: 2, 8: 3, 5: 3, 2: 3}\n"
     ]
    }
   ],
   "source": [
    "# adj = [[1,5],[2,9],[3,1],[4,2,9],[5,3],[6,8,11],[7,4,5],[8,10,9,11],[9,5,7],[10,2,6],[11,3]]\n",
    "adj = [[1,4],[2,8],[3,6],[4,7],[5,2],[6,9],[7,1],[8,5,6],[9,3,7]]\n",
    "\n",
    "graph = {a[0]:a[1:] for a in adj}\n",
    "scc = Kosaraju(graph)\n",
    "print(scc)"
   ]
  },
  {
   "cell_type": "markdown",
   "metadata": {},
   "source": [
    "### Assignment Solution "
   ]
  },
  {
   "cell_type": "markdown",
   "metadata": {},
   "source": [
    "#### Test Cases"
   ]
  },
  {
   "cell_type": "code",
   "execution_count": 64,
   "metadata": {},
   "outputs": [],
   "source": [
    "# test cases\n",
    "# graph_list = [[1,4],[2,8],[8,6],[3,6],[4,7],[5,2],[6,9],[7,1],[8,5],[9,7],[9,3]]\n",
    "# graph_list = [[1,2],[2,6],[2,3],[3,1],[3,4],[4,5],[5,4],[6,5],[6,7],[7,6],[7,8],[8,5],[8,7]]\n",
    "# graph_list = [[1,2],[2,3],[3,1],[3,4],[5,4],[6,4],[8,6],[6,7],[7,8]]\n",
    "# graph_list = [[1,2],[2,3],[3,1],[3,4],[5,4],[6,4],[8,6],[6,7],[7,8],[4,3],[4,6]]\n",
    "graph_list = [[1,2],[2,3],[2,4],[2,5],[3,6],[4,5],[4,7],[5,2],[5,6],[5,7],[6,3],[6,8],[7,8],\n",
    "              [7,10],[8,7],[9,7],[10,9],[10,11],[11,12],[12,10]]\n",
    "\n",
    "# count nodes \n",
    "nodes = []\n",
    "for pair in graph_list:\n",
    "    for n in pair:\n",
    "        if n not in nodes:\n",
    "            nodes.append(n)\n",
    "num_nodes = len(nodes)+1\n",
    "\n",
    "# make graph and inverse graph\n",
    "gr = [[] for i in range(num_nodes)]\n",
    "r_gr = [[] for i in range(num_nodes)]\n",
    "for pair in graph_list:\n",
    "    gr[pair[0]] += [pair[1]]\n",
    "    r_gr[pair[1]] += [pair[0]]"
   ]
  },
  {
   "cell_type": "markdown",
   "metadata": {},
   "source": [
    "#### Assignment Data"
   ]
  },
  {
   "cell_type": "code",
   "execution_count": 72,
   "metadata": {},
   "outputs": [],
   "source": [
    "num_nodes = 875715\n",
    "\n",
    "gr = [[] for i in range(num_nodes)]\n",
    "r_gr = [[] for i in range(num_nodes)]\n",
    "\n",
    "with open('SCC.txt') as f:\n",
    "    for line in f:\n",
    "        pair = list(map(int,line.split()))\n",
    "        gr[pair[0]] += [pair[1]]\n",
    "        r_gr[pair[1]] += [pair[0]]"
   ]
  },
  {
   "cell_type": "markdown",
   "metadata": {},
   "source": [
    "#### Compute Finishing Times"
   ]
  },
  {
   "cell_type": "code",
   "execution_count": 73,
   "metadata": {},
   "outputs": [],
   "source": [
    "visited = set()\n",
    "order = []\n",
    "stack = deque()\n",
    "    \n",
    "for s,out_nodes in enumerate(r_gr): \n",
    "        \n",
    "    if s not in visited:\n",
    "#         print('Outer loop: ', s,out_nodes)\n",
    "        \n",
    "        stack.append(s)\n",
    "        while stack:\n",
    "            v = stack[-1]\n",
    "            if v not in visited:\n",
    "                visited.add(v)\n",
    "#             print('stack =', stack, ', visiting =',v, 'with out_nodes =', r_gr[v])\n",
    "            # if all out-nodes of v already visited pop from stack and add to order\n",
    "            if set(r_gr[v]).issubset(visited):\n",
    "                t = stack.pop()\n",
    "                order.append(t)\n",
    "#                 print(f'=> out_nodes of {v} already visited, pop {t} from stack')\n",
    "            # if some out-nodes of v not yet visited, visit them and add to stack\n",
    "            else:\n",
    "                for w in r_gr[v]:\n",
    "                    if w not in visited:\n",
    "#                         print('add out_node = ', w, ' to stack')\n",
    "                        stack.append(w)\n",
    "#         print('')\n",
    "    \n",
    "    "
   ]
  },
  {
   "cell_type": "markdown",
   "metadata": {},
   "source": [
    "#### Compute SCC"
   ]
  },
  {
   "cell_type": "code",
   "execution_count": 74,
   "metadata": {},
   "outputs": [],
   "source": [
    "visited = set()\n",
    "stack = deque()\n",
    "scc_count = [0]*num_nodes\n",
    "\n",
    "c = 0\n",
    "scc = [0]*num_nodes\n",
    "\n",
    "for s in reversed(order):\n",
    "    \n",
    "    if s not in visited: \n",
    "#         print(f'=> start DFS at leader = {s}')\n",
    "        stack.append(s)\n",
    "\n",
    "        while len(stack)>0:\n",
    "            v = stack.pop()\n",
    "            if v not in visited:\n",
    "                visited.add(v)\n",
    "                scc_count[s] += 1\n",
    "                scc[v] = c\n",
    "#                 print(f'visiting node = {v}')\n",
    "            for w in gr[v]:\n",
    "                if w not in visited:\n",
    "                    stack.append(w)\n",
    "#                     print(f'added node = {w} to stack')\n",
    "        \n",
    "        c +=1 \n",
    "\n",
    "scc = scc[1:]\n",
    "scc_count = scc_count[1:]"
   ]
  },
  {
   "cell_type": "code",
   "execution_count": 76,
   "metadata": {},
   "outputs": [
    {
     "data": {
      "text/plain": [
       "[434821, 968, 459, 313, 211]"
      ]
     },
     "execution_count": 76,
     "metadata": {},
     "output_type": "execute_result"
    }
   ],
   "source": [
    "scc_count.sort(reverse=True)\n",
    "scc_count[:5]"
   ]
  }
 ],
 "metadata": {
  "kernelspec": {
   "display_name": "Python 3",
   "language": "python",
   "name": "python3"
  },
  "language_info": {
   "codemirror_mode": {
    "name": "ipython",
    "version": 3
   },
   "file_extension": ".py",
   "mimetype": "text/x-python",
   "name": "python",
   "nbconvert_exporter": "python",
   "pygments_lexer": "ipython3",
   "version": "3.7.9"
  }
 },
 "nbformat": 4,
 "nbformat_minor": 2
}
