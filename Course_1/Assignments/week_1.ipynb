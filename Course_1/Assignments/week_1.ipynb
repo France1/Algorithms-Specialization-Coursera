{
 "cells": [
  {
   "cell_type": "markdown",
   "metadata": {},
   "source": [
    "### Karatsuba recursive algorithm"
   ]
  },
  {
   "cell_type": "code",
   "execution_count": 4,
   "metadata": {},
   "outputs": [],
   "source": [
    "import math"
   ]
  },
  {
   "cell_type": "code",
   "execution_count": 60,
   "metadata": {},
   "outputs": [],
   "source": [
    "def karatsuba(num1,num2):\n",
    "    if len(str(num1))==1 or len(str(num2))==1:    \n",
    "        return num1*num2\n",
    "    else:\n",
    "        n = max(len(str(num1)),len(str(num2)))\n",
    "        n2 = n//2\n",
    "        \n",
    "        a,b = tuple(map(int,divmod(num1,10**n2)))\n",
    "        c,d = tuple(map(int,divmod(num2,10**n2)))\n",
    "\n",
    "        z0 = karatsuba(a,c)\n",
    "        z1 = karatsuba((a+b),(c+d))\n",
    "        z2 = karatsuba(b,d)\n",
    "\n",
    "        return int(10**(2*n2)*z0 + 10**(n2)*(z1-z0-z2) + z2)"
   ]
  },
  {
   "cell_type": "code",
   "execution_count": 61,
   "metadata": {},
   "outputs": [
    {
     "data": {
      "text/plain": [
       "7006652"
      ]
     },
     "execution_count": 61,
     "metadata": {},
     "output_type": "execute_result"
    }
   ],
   "source": [
    "x = 1234\n",
    "y = 5678\n",
    "karatsuba(x,y)"
   ]
  },
  {
   "cell_type": "code",
   "execution_count": 62,
   "metadata": {},
   "outputs": [
    {
     "data": {
      "text/plain": [
       "8539734222673567065463550869546574495034888535765114961879601127067743044893204848617875072216249073013374895871952806582723184"
      ]
     },
     "execution_count": 62,
     "metadata": {},
     "output_type": "execute_result"
    }
   ],
   "source": [
    "x = 3141592653589793238462643383279502884197169399375105820974944592\n",
    "y = 2718281828459045235360287471352662497757247093699959574966967627\n",
    "karatsuba(x,y)"
   ]
  },
  {
   "cell_type": "markdown",
   "metadata": {},
   "source": [
    "### Merge sort"
   ]
  },
  {
   "cell_type": "code",
   "execution_count": 107,
   "metadata": {},
   "outputs": [
    {
     "data": {
      "text/plain": [
       "[1, 2, 3, 4, 5, 6, 7, 8]"
      ]
     },
     "execution_count": 107,
     "metadata": {},
     "output_type": "execute_result"
    }
   ],
   "source": [
    "def merge(list_1, list_2):\n",
    "    n1,n2 = len(list_1), len(list_2)\n",
    "    i,j = 0,0\n",
    "    res = []\n",
    "    while i<n1 and j<n2:\n",
    "        if list_1[i]<list_2[j]:\n",
    "            res.append(list_1[i])\n",
    "            i+=1\n",
    "        else:\n",
    "            res.append(list_2[j])\n",
    "            j+=1\n",
    "    return res+list_1[i:]+list_2[j:]\n",
    "\n",
    "a = [1,3,5,8]\n",
    "b = [2,4,6,7]\n",
    "merge(a,b)"
   ]
  },
  {
   "cell_type": "code",
   "execution_count": 108,
   "metadata": {},
   "outputs": [
    {
     "name": "stdout",
     "output_type": "stream",
     "text": [
      "[1] [3]\n",
      "[5] [8]\n",
      "[1, 3] [5, 8]\n",
      "[2] [4]\n",
      "[6] [7]\n",
      "[2, 4] [6, 7]\n",
      "[1, 3, 5, 8] [2, 4, 6, 7]\n"
     ]
    },
    {
     "data": {
      "text/plain": [
       "[1, 2, 3, 4, 5, 6, 7, 8]"
      ]
     },
     "execution_count": 108,
     "metadata": {},
     "output_type": "execute_result"
    }
   ],
   "source": [
    "c = a+b\n",
    "\n",
    "def merge_sort(arr):\n",
    "    if len(arr)==1:\n",
    "        return(arr)\n",
    "    else:\n",
    "        n = len(arr)//2\n",
    "        left,right = arr[:n],arr[n:]\n",
    "        left = merge_sort(left)\n",
    "        right = merge_sort(right) \n",
    "        print(left,right)\n",
    "        return merge(left,right)\n",
    "    \n",
    "merge_sort(c)    "
   ]
  },
  {
   "cell_type": "code",
   "execution_count": 109,
   "metadata": {},
   "outputs": [
    {
     "data": {
      "text/plain": [
       "[1, 3, 5, 8, 2, 4, 6, 7]"
      ]
     },
     "execution_count": 109,
     "metadata": {},
     "output_type": "execute_result"
    }
   ],
   "source": [
    "c"
   ]
  },
  {
   "cell_type": "code",
   "execution_count": 1,
   "metadata": {},
   "outputs": [
    {
     "data": {
      "text/plain": [
       "2"
      ]
     },
     "execution_count": 1,
     "metadata": {},
     "output_type": "execute_result"
    }
   ],
   "source": [
    "5//2"
   ]
  },
  {
   "cell_type": "code",
   "execution_count": null,
   "metadata": {},
   "outputs": [],
   "source": []
  }
 ],
 "metadata": {
  "kernelspec": {
   "display_name": "Python 3",
   "language": "python",
   "name": "python3"
  },
  "language_info": {
   "codemirror_mode": {
    "name": "ipython",
    "version": 3
   },
   "file_extension": ".py",
   "mimetype": "text/x-python",
   "name": "python",
   "nbconvert_exporter": "python",
   "pygments_lexer": "ipython3",
   "version": "3.7.5"
  }
 },
 "nbformat": 4,
 "nbformat_minor": 4
}
