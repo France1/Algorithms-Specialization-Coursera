{
 "cells": [
  {
   "cell_type": "markdown",
   "metadata": {},
   "source": [
    "### PA#2"
   ]
  },
  {
   "cell_type": "code",
   "execution_count": 2,
   "metadata": {},
   "outputs": [],
   "source": [
    "from itertools import combinations\n",
    "from math import sqrt\n",
    "from time import time"
   ]
  },
  {
   "cell_type": "code",
   "execution_count": 3,
   "metadata": {},
   "outputs": [],
   "source": [
    "adj = [      # min loop = 13\n",
    "    [1,2,2],\n",
    "    [2,1,2],\n",
    "    [1,3,1],\n",
    "    [3,1,1],\n",
    "    [1,4,4],\n",
    "    [4,1,4],\n",
    "    [2,3,3],\n",
    "    [3,2,3],\n",
    "    [2,4,5],\n",
    "    [4,2,5],\n",
    "    [3,4,6],\n",
    "    [4,3,6]\n",
    "]\n",
    "\n",
    "# adj = [        # min loop = 80\n",
    "#     [1,2,10],\n",
    "#     [2,1,10],\n",
    "#     [1,3,15],\n",
    "#     [3,1,15],\n",
    "#     [1,4,20],\n",
    "#     [4,1,20],\n",
    "#     [2,3,35],\n",
    "#     [3,2,35],\n",
    "#     [2,4,25],\n",
    "#     [4,2,25],\n",
    "#     [3,4,30],\n",
    "#     [4,3,30]\n",
    "# ]"
   ]
  },
  {
   "cell_type": "code",
   "execution_count": 4,
   "metadata": {},
   "outputs": [],
   "source": [
    "def initialize_TSP(adj, source):\n",
    "    \n",
    "    # set of vertices\n",
    "    V = set()\n",
    "    for e in adj:\n",
    "        V = V.union(set(e[:1]))\n",
    "\n",
    "    # distances matrix D(u,v)\n",
    "    D = [[0 for i in range(len(V)+1)] for i in range(len(V)+1)]\n",
    "    for e in adj:\n",
    "        D[e[0]][e[1]] = e[2]\n",
    "    \n",
    "    # initialize sets dictionary S and ditances matrix A\n",
    "    S = {}\n",
    "    A = {((1,),1): 0}\n",
    "    for r in range(2,len(V)+1):\n",
    "        s = []\n",
    "        combs = combinations(V, r)\n",
    "        for c in combs:\n",
    "            if source in c:\n",
    "                s.append(c)\n",
    "                A[(c,1)] = float('inf')\n",
    "        S[r] = s\n",
    "    \n",
    "    return V, D, S, A\n",
    "\n",
    "def run_TSP(V,D,S,A):\n",
    "    \n",
    "    # calculate path length in A\n",
    "    for m in range(2,len(V)+1):\n",
    "        print('m =', m)\n",
    "        # iterate through sets of size m\n",
    "        for s in S[m]:\n",
    "            # for j in s-{source}\n",
    "            for j in [x for x in s if x != source]:\n",
    "                distances = []\n",
    "                # s - {j}\n",
    "                s_k = tuple([x for x in s if x != j])\n",
    "                # for k in s-{j}\n",
    "                for k in s_k:\n",
    "                    distances.append(A[(s_k,k)]+D[k][j])\n",
    "                # add to A min_k of distances\n",
    "                A[(s,j)] = min(distances)\n",
    "    # connect source hoop and find optimal loop length\n",
    "    opt = []\n",
    "    for k in range(2,len(V)+1):\n",
    "        opt.append(A[(tuple(V),k)]+D[k][source])\n",
    "    \n",
    "    return min(opt)"
   ]
  },
  {
   "cell_type": "code",
   "execution_count": 5,
   "metadata": {},
   "outputs": [
    {
     "name": "stdout",
     "output_type": "stream",
     "text": [
      "m = 2\n",
      "m = 3\n",
      "m = 4\n"
     ]
    }
   ],
   "source": [
    "source = 1\n",
    "V,D,S,A = initialize_TSP(adj, source)\n",
    "opt = run_TSP(V,D,S,A)"
   ]
  },
  {
   "cell_type": "markdown",
   "metadata": {},
   "source": [
    "### Assignment data"
   ]
  },
  {
   "cell_type": "code",
   "execution_count": 6,
   "metadata": {},
   "outputs": [
    {
     "data": {
      "text/plain": [
       "{1: (20833.3333, 17100.0),\n",
       " 2: (20900.0, 17066.6667),\n",
       " 3: (21300.0, 13016.6667),\n",
       " 4: (21600.0, 14150.0),\n",
       " 5: (21600.0, 14966.6667),\n",
       " 6: (21600.0, 16500.0),\n",
       " 7: (22183.3333, 13133.3333),\n",
       " 8: (22583.3333, 14300.0),\n",
       " 9: (22683.3333, 12716.6667),\n",
       " 10: (23616.6667, 15866.6667),\n",
       " 11: (23700.0, 15933.3333),\n",
       " 12: (23883.3333, 14533.3333),\n",
       " 13: (24166.6667, 13250.0),\n",
       " 14: (25149.1667, 12365.8333),\n",
       " 15: (26133.3333, 14500.0),\n",
       " 16: (26150.0, 10550.0),\n",
       " 17: (26283.3333, 12766.6667),\n",
       " 18: (26433.3333, 13433.3333),\n",
       " 19: (26550.0, 13850.0),\n",
       " 20: (26733.3333, 11683.3333),\n",
       " 21: (27026.1111, 13051.9444),\n",
       " 22: (27096.1111, 13415.8333),\n",
       " 23: (27153.6111, 13203.3333),\n",
       " 24: (27166.6667, 9833.3333),\n",
       " 25: (27233.3333, 10450.0)}"
      ]
     },
     "execution_count": 6,
     "metadata": {},
     "output_type": "execute_result"
    }
   ],
   "source": [
    "coords = {}\n",
    "with open('tsp.txt') as f:\n",
    "    for i,l in enumerate(f):\n",
    "        l = tuple(map(float, l.split()))\n",
    "        if i!=0:\n",
    "            coords[i] = l\n",
    "coords"
   ]
  },
  {
   "cell_type": "code",
   "execution_count": 7,
   "metadata": {},
   "outputs": [],
   "source": [
    "adj = []\n",
    "\n",
    "for p1,p2 in list(combinations(coords.keys(), 2)):\n",
    "    d = sqrt((coords[p1][0]-coords[p2][0])**2+(coords[p1][1]-coords[p2][1])**2)\n",
    "    adj.append([p1,p2,round(d,4)])\n",
    "    adj.append([p2,p1,round(d,4)])"
   ]
  },
  {
   "cell_type": "code",
   "execution_count": 8,
   "metadata": {},
   "outputs": [],
   "source": [
    "source = 1\n",
    "V,D,S,A = initialize_TSP(adj, source)"
   ]
  },
  {
   "cell_type": "code",
   "execution_count": 9,
   "metadata": {},
   "outputs": [
    {
     "name": "stdout",
     "output_type": "stream",
     "text": [
      "m = 2\n",
      "m = 3\n",
      "m = 4\n",
      "m = 5\n",
      "m = 6\n",
      "m = 7\n",
      "m = 8\n",
      "m = 9\n",
      "m = 10\n",
      "m = 11\n",
      "m = 12\n",
      "m = 13\n",
      "m = 14\n",
      "m = 15\n",
      "m = 16\n",
      "m = 17\n",
      "m = 18\n",
      "m = 19\n",
      "m = 20\n",
      "m = 21\n",
      "m = 22\n",
      "m = 23\n",
      "m = 24\n",
      "m = 25\n",
      "elapsed =  2020.2035088539124\n",
      "opt =  26442.730300000003\n"
     ]
    }
   ],
   "source": [
    "start = time()\n",
    "opt = run_TSP(V,D,S,A)\n",
    "print('elapsed = ', time()-start)\n",
    "print('opt = ', opt)"
   ]
  },
  {
   "cell_type": "code",
   "execution_count": null,
   "metadata": {},
   "outputs": [],
   "source": []
  }
 ],
 "metadata": {
  "kernelspec": {
   "display_name": "Python 3",
   "language": "python",
   "name": "python3"
  },
  "language_info": {
   "codemirror_mode": {
    "name": "ipython",
    "version": 3
   },
   "file_extension": ".py",
   "mimetype": "text/x-python",
   "name": "python",
   "nbconvert_exporter": "python",
   "pygments_lexer": "ipython3",
   "version": "3.7.5"
  }
 },
 "nbformat": 4,
 "nbformat_minor": 5
}
