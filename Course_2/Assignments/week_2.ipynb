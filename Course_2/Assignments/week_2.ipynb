{
 "cells": [
  {
   "cell_type": "markdown",
   "metadata": {},
   "source": [
    "### Dijkstra Algorithm"
   ]
  },
  {
   "cell_type": "code",
   "execution_count": 1,
   "metadata": {},
   "outputs": [],
   "source": [
    "from operator import itemgetter"
   ]
  },
  {
   "cell_type": "code",
   "execution_count": 12,
   "metadata": {},
   "outputs": [],
   "source": [
    "def dijkstra(g,s=1):\n",
    "    \n",
    "    # initialize arrays\n",
    "    V = set(g.keys())\n",
    "    X = []\n",
    "    A = [1000000 for i in range(len(V)+1)] # assign 10^6 to unvisited vertex paths\n",
    "    B = [[] for i in range(len(V)+1)]\n",
    "    \n",
    "    # visit source node\n",
    "    X.append(s)\n",
    "    A[s] = 0\n",
    "    \n",
    "    # iterate through unvisited nodes\n",
    "    while set(X) != set(V):\n",
    "        scores = []\n",
    "        for v in X:\n",
    "            # evaluate edges in the frontier of X\n",
    "            for (w,d) in g[v]:\n",
    "                if w not in X:\n",
    "                    l = A[v]+d\n",
    "                    scores.append((v, w, l))\n",
    "        # Dijkestra greedy criterion\n",
    "        v_s,w_s,l_s = min(scores,key=itemgetter(2))\n",
    "        # collect results\n",
    "        X.append(w_s)\n",
    "        A[w_s] = l_s\n",
    "        B[w_s] = B[v_s] + [w_s]\n",
    "    \n",
    "    # collect output\n",
    "    paths = {v+1:None for v in range(len(X))}\n",
    "    for v in X:\n",
    "        paths[v] = [A[v], B[v]]\n",
    "    \n",
    "    return paths"
   ]
  },
  {
   "cell_type": "code",
   "execution_count": 13,
   "metadata": {},
   "outputs": [],
   "source": [
    "# Load graph into dictionary\n",
    "g = {}\n",
    "with open('Dijkstra.txt') as f:\n",
    "    for l in f:\n",
    "        l = l.split()\n",
    "        g[int(l[0])] = []\n",
    "        for e in l[1:]:\n",
    "            e = list(map(int, e.split(',')))\n",
    "            g[int(l[0])].append(tuple(e))\n",
    "        "
   ]
  },
  {
   "cell_type": "code",
   "execution_count": 15,
   "metadata": {},
   "outputs": [
    {
     "name": "stdout",
     "output_type": "stream",
     "text": [
      "test paths =  [2599, 2610, 2947, 2052, 2367, 2399, 2029, 2442, 2505, 3068]\n"
     ]
    }
   ],
   "source": [
    "# Assignment results\n",
    "paths = dijkstra(g)\n",
    "test_nodes = [7,37,59,82,99,115,133,165,188,197]\n",
    "print('test paths = ', [paths[n][0] for n in test_nodes])"
   ]
  }
 ],
 "metadata": {
  "kernelspec": {
   "display_name": "Python 3",
   "language": "python",
   "name": "python3"
  },
  "language_info": {
   "codemirror_mode": {
    "name": "ipython",
    "version": 3
   },
   "file_extension": ".py",
   "mimetype": "text/x-python",
   "name": "python",
   "nbconvert_exporter": "python",
   "pygments_lexer": "ipython3",
   "version": "3.7.9"
  }
 },
 "nbformat": 4,
 "nbformat_minor": 4
}
