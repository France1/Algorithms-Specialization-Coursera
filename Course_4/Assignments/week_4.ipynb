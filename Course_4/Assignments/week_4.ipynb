{
 "cells": [
  {
   "cell_type": "markdown",
   "id": "present-jurisdiction",
   "metadata": {},
   "source": [
    "### PA#4"
   ]
  },
  {
   "cell_type": "code",
   "execution_count": 322,
   "id": "afraid-amino",
   "metadata": {},
   "outputs": [],
   "source": [
    "import networkx as nx\n",
    "from collections import Counter"
   ]
  },
  {
   "cell_type": "markdown",
   "id": "published-stamp",
   "metadata": {},
   "source": [
    "From https://cp-algorithms.com/graph/2SAT.html:\n",
    "\n",
    "In order for this 2-SAT problem to have a solution, it is necessary and sufficient that for any variable x the vertices x and ¬x are in different strongly connected components of the strong connection of the implication graph.\n",
    "\n"
   ]
  },
  {
   "cell_type": "markdown",
   "id": "random-feelings",
   "metadata": {},
   "source": [
    "### Test Cases"
   ]
  },
  {
   "cell_type": "code",
   "execution_count": 407,
   "id": "young-whale",
   "metadata": {},
   "outputs": [],
   "source": [
    "# cnf = [(1,-2),(-1,2),(-1,-2),(1,3)]                # True\n",
    "# cnf = [(-1,2),(-2,-1),(1,1)]                         # False\n",
    "# cnf = [(1,2),(1,2),(2,-3)]                         # True\n",
    "# cnf = [(1,-2),(-1,-2),(2,-3)]                      # True\n",
    "# cnf = [(1,2),(-1,3),(3,4),(-2,-4)]                 # True\n",
    "cnf = [(1,-2),(-1,2),(-2,4),(-2,-4),(2,4),(2,-4)]  # False"
   ]
  },
  {
   "cell_type": "markdown",
   "id": "available-chemistry",
   "metadata": {},
   "source": [
    "### Assignement data"
   ]
  },
  {
   "cell_type": "code",
   "execution_count": 442,
   "id": "confidential-guard",
   "metadata": {},
   "outputs": [],
   "source": [
    "cnf = []\n",
    "with open('2sat6.txt') as f:\n",
    "    for i,l in enumerate(f):\n",
    "        l = tuple(map(int, l.split()))\n",
    "        if i!=0:\n",
    "            cnf.append(l)"
   ]
  },
  {
   "cell_type": "code",
   "execution_count": 443,
   "id": "automatic-progressive",
   "metadata": {},
   "outputs": [],
   "source": [
    "def implication_graph(cnf):\n",
    "\n",
    "    edges = []\n",
    "    for a,b in cnf:\n",
    "        edges.append((-a,b))\n",
    "        edges.append((-b,a))\n",
    "        \n",
    "    G = nx.DiGraph()\n",
    "    G.add_edges_from(edges)\n",
    "    \n",
    "    return G   "
   ]
  },
  {
   "cell_type": "markdown",
   "id": "raised-charles",
   "metadata": {},
   "source": [
    "### 2-SAT Algorithm"
   ]
  },
  {
   "cell_type": "code",
   "execution_count": 444,
   "id": "polar-premium",
   "metadata": {},
   "outputs": [
    {
     "data": {
      "text/plain": [
       "False"
      ]
     },
     "execution_count": 444,
     "metadata": {},
     "output_type": "execute_result"
    }
   ],
   "source": [
    "g = implication_graph(cnf)\n",
    "scc = nx.strongly_connected_components(g)\n",
    "solution = True\n",
    "for c in list(scc):\n",
    "    c_abs = list(map(abs,c))\n",
    "    count = Counter(c_abs)\n",
    "    # if v and -v appear in the same scc then 2SAT has no solution\n",
    "    for v,n in count.items():\n",
    "        if n >1:\n",
    "            solution = False\n",
    "            break\n",
    "\n",
    "solution   "
   ]
  },
  {
   "cell_type": "code",
   "execution_count": null,
   "id": "continued-municipality",
   "metadata": {},
   "outputs": [],
   "source": []
  }
 ],
 "metadata": {
  "kernelspec": {
   "display_name": "Python 3",
   "language": "python",
   "name": "python3"
  },
  "language_info": {
   "codemirror_mode": {
    "name": "ipython",
    "version": 3
   },
   "file_extension": ".py",
   "mimetype": "text/x-python",
   "name": "python",
   "nbconvert_exporter": "python",
   "pygments_lexer": "ipython3",
   "version": "3.7.9"
  }
 },
 "nbformat": 4,
 "nbformat_minor": 5
}
