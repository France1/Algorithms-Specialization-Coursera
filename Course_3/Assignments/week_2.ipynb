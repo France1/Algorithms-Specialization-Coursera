{
 "cells": [
  {
   "cell_type": "code",
   "execution_count": 1,
   "metadata": {},
   "outputs": [],
   "source": [
    "from networkx.utils import UnionFind\n",
    "from itertools import combinations"
   ]
  },
  {
   "cell_type": "markdown",
   "metadata": {},
   "source": [
    "### PA#1"
   ]
  },
  {
   "cell_type": "code",
   "execution_count": 2,
   "metadata": {},
   "outputs": [],
   "source": [
    "# small test graph\n",
    "\n",
    "# adj = '''\n",
    "# 1 2 1\n",
    "# 1 3 2\n",
    "# 2 4 1\n",
    "# 3 4 3\n",
    "# 3 5 5\n",
    "# 5 6 2\n",
    "# 5 7 3\n",
    "# 6 7 1\n",
    "# '''\n",
    "# edges = []\n",
    "# nodes = set()\n",
    "# for i,l in enumerate(adj.split('\\n')):\n",
    "#     if (len(l)>0) and i!=0:\n",
    "#         v1,v2,d = tuple(map(int,l.split()))\n",
    "#         edges.append((tuple(sorted((v1,v2))),d))\n",
    "#         nodes.update([v1,v2])  "
   ]
  },
  {
   "cell_type": "code",
   "execution_count": 15,
   "metadata": {},
   "outputs": [],
   "source": [
    "# Assigment data and larger test graphs\n",
    "edges = []\n",
    "nodes = set()\n",
    "with open('clustering_small.txt') as f:\n",
    "    for i,l in enumerate(f):\n",
    "        l = l.split()\n",
    "        if (len(l)>0) and i!=0:\n",
    "            v1,v2,d = tuple(map(int,l))\n",
    "            edges.append((tuple(sorted((v1,v2))),d))\n",
    "            nodes.update([v1,v2])"
   ]
  },
  {
   "cell_type": "code",
   "execution_count": 16,
   "metadata": {},
   "outputs": [],
   "source": [
    "# num. clusters\n",
    "k = 4\n",
    "# sort edges by weight\n",
    "edges = sorted(edges, key = lambda x: x[1])"
   ]
  },
  {
   "cell_type": "code",
   "execution_count": 17,
   "metadata": {},
   "outputs": [
    {
     "name": "stdout",
     "output_type": "stream",
     "text": [
      "4\n"
     ]
    }
   ],
   "source": [
    "# inialize union-find structure\n",
    "partition = UnionFind(nodes)\n",
    "n_k = len(nodes)\n",
    "\n",
    "# add nodes until n_k = k\n",
    "while n_k>k:\n",
    "    (v1,v2),d = edges.pop(0)\n",
    "    partition.union(v1,v2)\n",
    "    clusters = list(partition.to_sets())\n",
    "    n_k = len(clusters)    \n",
    "print(n_k)"
   ]
  },
  {
   "cell_type": "code",
   "execution_count": 18,
   "metadata": {},
   "outputs": [
    {
     "name": "stdout",
     "output_type": "stream",
     "text": [
      "max min distance =  106\n"
     ]
    }
   ],
   "source": [
    "# get minimum distance between clusters:\n",
    "# iterate until an edge connecting different cluster is found\n",
    "for (v1,v2),d in edges:\n",
    "    if partition.__getitem__(v1) != partition.__getitem__(v2):\n",
    "        break\n",
    "print('max min distance = ', d)"
   ]
  },
  {
   "cell_type": "markdown",
   "metadata": {},
   "source": [
    "### PA#2"
   ]
  },
  {
   "cell_type": "code",
   "execution_count": 7,
   "metadata": {},
   "outputs": [],
   "source": [
    "node_strings = []\n",
    "with open('clustering_large.txt') as f:\n",
    "    for i,l in enumerate(f):\n",
    "        l = l.strip().replace(' ','')\n",
    "        if (len(l)>0) and i!=0:\n",
    "            node_strings.append(l)"
   ]
  },
  {
   "cell_type": "code",
   "execution_count": 13,
   "metadata": {},
   "outputs": [
    {
     "name": "stdout",
     "output_type": "stream",
     "text": [
      "num clusters =  6118\n"
     ]
    }
   ],
   "source": [
    "# map number corresponding to binary string => node id \n",
    "ids = list(range(len(node_strings)))\n",
    "num2id = {}\n",
    "for i,s in enumerate(node_strings):\n",
    "    num = int(s,2)\n",
    "    if num not in num2id:\n",
    "        num2id[num] = []\n",
    "    num2id[num].append(i)\n",
    "    \n",
    "# create UnionFind partition for each key in num2id\n",
    "partition = UnionFind(ids)\n",
    "list(partition.to_sets())\n",
    "for nums in num2id.values():\n",
    "    if len(nums)>1:\n",
    "        n1 = nums[0]\n",
    "        for n2 in nums[1:]:\n",
    "            partition.union(n1,n2)\n",
    "            \n",
    "# make bit-masks corresponding to 1 and 2 hamming distances and convert to number\n",
    "distances = []\n",
    "# hamming distance-1\n",
    "for i in range(24):\n",
    "    distances.append(1 << i)\n",
    "# hamming distance-2\n",
    "for p in list(combinations(range(24),2)):\n",
    "    distances.append((1 << p[0]) ^ (1 << p[1]))\n",
    "    \n",
    "# for each num1 in num2id compute num2 by xor every distance in the list\n",
    "# if num2 in mu2id then make union (num1,num2)\n",
    "for n1, nodes in num2id.items():\n",
    "    for d in distances:\n",
    "        n2 = n1 ^ d\n",
    "        if n2 in num2id:\n",
    "            partition.union(num2id[n1][0],num2id[n2][0])\n",
    "            \n",
    "print('num clusters = ', len(list(partition.to_sets())))"
   ]
  }
 ],
 "metadata": {
  "kernelspec": {
   "display_name": "Python 3",
   "language": "python",
   "name": "python3"
  },
  "language_info": {
   "codemirror_mode": {
    "name": "ipython",
    "version": 3
   },
   "file_extension": ".py",
   "mimetype": "text/x-python",
   "name": "python",
   "nbconvert_exporter": "python",
   "pygments_lexer": "ipython3",
   "version": "3.7.9"
  }
 },
 "nbformat": 4,
 "nbformat_minor": 2
}
