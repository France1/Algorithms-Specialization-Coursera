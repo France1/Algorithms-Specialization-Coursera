{
 "cells": [
  {
   "cell_type": "markdown",
   "metadata": {},
   "source": [
    "### Counting Inversions"
   ]
  },
  {
   "cell_type": "code",
   "execution_count": 39,
   "metadata": {},
   "outputs": [
    {
     "name": "stdout",
     "output_type": "stream",
     "text": [
      "2407905288\n"
     ]
    }
   ],
   "source": [
    "def Merge_and_CountSplitInv(left,right):\n",
    "    \n",
    "    n1,n2 = len(left), len(right)\n",
    "    i,j = 0,0\n",
    "    res = []\n",
    "    count_inv = 0\n",
    "    \n",
    "    while i<n1 and j<n2:\n",
    "        if left[i]<right[j]:\n",
    "            res.append(left[i])\n",
    "            i+=1\n",
    "        else:\n",
    "            res.append(right[j])\n",
    "            count_inv += len(left[i:])\n",
    "            j+=1\n",
    "    return res+left[i:]+right[j:], count_inv\n",
    "\n",
    "def Sort_and_Count(arr):\n",
    "    \n",
    "    n = len(arr)\n",
    "    if n==1:\n",
    "        return arr,0\n",
    "    else:\n",
    "        n2 = n//2\n",
    "        left = arr[:n2]\n",
    "        right = arr[n2:]\n",
    "        \n",
    "        left,inv_left = Sort_and_Count(left)\n",
    "        right,inv_right = Sort_and_Count(right)\n",
    "        arr,inv_arr = Merge_and_CountSplitInv(left,right)\n",
    "        \n",
    "        return arr, inv_left+inv_right+inv_arr\n",
    "\n",
    "with open('MergeSort.txt') as f:\n",
    "    arr = [int(num) for num in f]\n",
    "    \n",
    "arr,inv = Sort_and_Count(arr)\n",
    "print(inv)"
   ]
  },
  {
   "cell_type": "markdown",
   "metadata": {},
   "source": [
    "### Binary Search"
   ]
  },
  {
   "cell_type": "markdown",
   "metadata": {},
   "source": [
    "#### Iterative"
   ]
  },
  {
   "cell_type": "code",
   "execution_count": 75,
   "metadata": {},
   "outputs": [
    {
     "data": {
      "text/plain": [
       "2"
      ]
     },
     "execution_count": 75,
     "metadata": {},
     "output_type": "execute_result"
    }
   ],
   "source": [
    "def BinarySearchIterative(arr,target):\n",
    "    \n",
    "    l = 0\n",
    "    r = len(arr)-1\n",
    "    pos = -1\n",
    "    \n",
    "    while r>l:\n",
    "        mid = (l+r)//2\n",
    "\n",
    "        if arr[mid]==target:\n",
    "            pos = mid\n",
    "            return pos\n",
    "        if arr[mid]>target:\n",
    "            r = mid-1\n",
    "        if arr[mid]<target:\n",
    "            l = mid+1\n",
    "                    \n",
    "    return pos\n",
    "\n",
    "arr = [1,2,3,4,5,6,7,8,9,10]\n",
    "target = 3\n",
    "BinarySearchIterative(arr,target)   "
   ]
  },
  {
   "cell_type": "code",
   "execution_count": 79,
   "metadata": {},
   "outputs": [
    {
     "data": {
      "text/plain": [
       "2"
      ]
     },
     "execution_count": 79,
     "metadata": {},
     "output_type": "execute_result"
    }
   ],
   "source": [
    "def BinarySearchRecursive(arr,target,l=0,r=None):\n",
    "    \n",
    "    if r==None:\n",
    "        r = len(arr)-1\n",
    "    if l>r:\n",
    "        return -1\n",
    "    \n",
    "    mid = (l+r)//2\n",
    "    if arr[mid]==target:\n",
    "        return mid\n",
    "    if arr[mid]>target:\n",
    "        return BinarySearchRecursive(arr,target,l,mid-1)\n",
    "    if arr[mid]<target:\n",
    "        return BinarySearchRecursive(arr,target,mid+1,r)\n",
    "                    \n",
    "arr = [1,2,3,4,5,6,7,8,9,10]\n",
    "target = 3\n",
    "BinarySearchIterative(arr,target)"
   ]
  }
 ],
 "metadata": {
  "kernelspec": {
   "display_name": "Python 3",
   "language": "python",
   "name": "python3"
  },
  "language_info": {
   "codemirror_mode": {
    "name": "ipython",
    "version": 3
   },
   "file_extension": ".py",
   "mimetype": "text/x-python",
   "name": "python",
   "nbconvert_exporter": "python",
   "pygments_lexer": "ipython3",
   "version": "3.7.5"
  }
 },
 "nbformat": 4,
 "nbformat_minor": 4
}
