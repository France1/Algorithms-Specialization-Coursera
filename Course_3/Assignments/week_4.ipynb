{
 "cells": [
  {
   "cell_type": "markdown",
   "id": "separate-young",
   "metadata": {},
   "source": [
    "### PA#1 Knapsack small"
   ]
  },
  {
   "cell_type": "code",
   "execution_count": 1,
   "id": "supported-button",
   "metadata": {},
   "outputs": [],
   "source": [
    "# Test cases\n",
    "# test-1 (solution=8)\n",
    "W = 6\n",
    "data = [(3,4),(2,3),(4,2),(4,3)]\n",
    "# test-2\n",
    "# W = 93 (solution=46)\n",
    "# data = [(7,2),(4,10),(10,2),(6,6),(5,9),(8,6),(1,9),(5,10)]\n",
    "# test-3 (solution=150)\n",
    "# W = 190\n",
    "# data = [(50,56),(50,59),(64,80),(46,64),(50,75),(5,17)]"
   ]
  },
  {
   "cell_type": "code",
   "execution_count": 2,
   "id": "coated-database",
   "metadata": {},
   "outputs": [],
   "source": [
    "# assignment data\n",
    "data = []\n",
    "with open('knapsack_small.txt') as f:\n",
    "    for i,l in enumerate(f):\n",
    "        l = tuple(map(int, l.split()))\n",
    "        if i==0:\n",
    "            W = l[0]\n",
    "        if i!=0:\n",
    "            data.append(l)"
   ]
  },
  {
   "cell_type": "code",
   "execution_count": 3,
   "id": "supported-racing",
   "metadata": {},
   "outputs": [],
   "source": [
    "# Initialize matrix\n",
    "n = len(data)\n",
    "A = []\n",
    "data = [(0,0)]+data\n",
    "for i in range(n+1):\n",
    "    A_i = []\n",
    "    for x in range(W+1):\n",
    "        A_i.append(0)\n",
    "    A.append(A_i)"
   ]
  },
  {
   "cell_type": "code",
   "execution_count": 4,
   "id": "dietary-reunion",
   "metadata": {},
   "outputs": [
    {
     "name": "stdout",
     "output_type": "stream",
     "text": [
      "solution =  2493893\n"
     ]
    }
   ],
   "source": [
    "# Iterate to optimal solution\n",
    "for i in range(1,n+1):\n",
    "    for x in range(W+1):\n",
    "        v_i, w_i = data[i][0],data[i][1]\n",
    "        if w_i>x:\n",
    "            A[i][x] = A[i-1][x]\n",
    "        else:    \n",
    "            A[i][x] = max(A[i-1][x], A[i-1][x-w_i]+v_i)        \n",
    "print('solution = ', A[-1][-1])"
   ]
  },
  {
   "cell_type": "code",
   "execution_count": 5,
   "id": "intimate-description",
   "metadata": {},
   "outputs": [
    {
     "name": "stdout",
     "output_type": "stream",
     "text": [
      "[100, 99, 93, 92, 91, 89, 83, 80, 78, 77, 76, 75, 72, 69, 66, 62, 59, 58, 57, 54, 50, 46, 43, 42, 41, 37, 32, 29, 26, 25, 24, 19, 16, 15, 14, 11, 10, 9, 7, 6, 0]\n"
     ]
    }
   ],
   "source": [
    "# recover optimal solution \n",
    "i = n\n",
    "x = W\n",
    "curr_v = A[i][x]\n",
    "seq = []\n",
    "while i>=0:\n",
    "#     print(i,x)\n",
    "    if A[i-1][x]==A[i][x]:\n",
    "        i = i-1\n",
    "    else:\n",
    "        seq.append(i)\n",
    "        x = x-data[i][1]\n",
    "        curr_v = A[i-1][x]\n",
    "        i = i-1\n",
    "print(seq)"
   ]
  },
  {
   "cell_type": "markdown",
   "id": "finite-curve",
   "metadata": {},
   "source": [
    "### PA#2 Knapsack large"
   ]
  },
  {
   "cell_type": "code",
   "execution_count": 6,
   "id": "polar-exercise",
   "metadata": {},
   "outputs": [],
   "source": [
    "# assignment data\n",
    "data = []\n",
    "with open('knapsack_big.txt') as f:\n",
    "    for i,l in enumerate(f):\n",
    "        l = tuple(map(int, l.split()))\n",
    "        if i==0:\n",
    "            W = l[0]\n",
    "        if i!=0:\n",
    "            data.append(l)"
   ]
  },
  {
   "cell_type": "code",
   "execution_count": 8,
   "id": "attempted-empty",
   "metadata": {},
   "outputs": [
    {
     "name": "stdout",
     "output_type": "stream",
     "text": [
      "1691.6509959697723\n"
     ]
    }
   ],
   "source": [
    "from time import time\n",
    "# W = 6\n",
    "# data = [(3,4),(2,3),(4,2),(4,3)]\n",
    "start = time()\n",
    "n = len(data)\n",
    "data = [(0,0)]+data\n",
    "a= [0,]*(W+1)\n",
    "\n",
    "for i in range(1,n+1):\n",
    "#     print(i)\n",
    "    v_i, w_i = data[i][0],data[i][1]\n",
    "    d = {}\n",
    "    for x in range(W+1):     \n",
    "        if x>=w_i:\n",
    "            v_new = v_i + a[x-w_i]\n",
    "            if v_new>a[x]:\n",
    "                d[x] = v_new\n",
    "    for k,v in d.items():\n",
    "        a[k] = v   \n",
    "#     print(d)\n",
    "print(time()-start)"
   ]
  },
  {
   "cell_type": "code",
   "execution_count": 11,
   "id": "owned-ending",
   "metadata": {},
   "outputs": [
    {
     "data": {
      "text/plain": [
       "4243395"
      ]
     },
     "execution_count": 11,
     "metadata": {},
     "output_type": "execute_result"
    }
   ],
   "source": [
    "a[-1]"
   ]
  },
  {
   "cell_type": "code",
   "execution_count": 14,
   "id": "wound-dialogue",
   "metadata": {},
   "outputs": [
    {
     "data": {
      "text/plain": [
       "0.05638883614961078"
      ]
     },
     "execution_count": 14,
     "metadata": {},
     "output_type": "execute_result"
    }
   ],
   "source": [
    "0.99*0.006/(0.99*0.006+0.10*0.994)\n",
    "\n",
    "\n",
    "\n"
   ]
  },
  {
   "cell_type": "code",
   "execution_count": 13,
   "id": "fresh-compiler",
   "metadata": {},
   "outputs": [
    {
     "data": {
      "text/plain": [
       "0.994"
      ]
     },
     "execution_count": 13,
     "metadata": {},
     "output_type": "execute_result"
    }
   ],
   "source": [
    "1-0.006"
   ]
  },
  {
   "cell_type": "code",
   "execution_count": 15,
   "id": "painted-fourth",
   "metadata": {},
   "outputs": [
    {
     "data": {
      "text/plain": [
       "96.0"
      ]
     },
     "execution_count": 15,
     "metadata": {},
     "output_type": "execute_result"
    }
   ],
   "source": [
    "120*0.8"
   ]
  },
  {
   "cell_type": "code",
   "execution_count": null,
   "id": "specialized-duration",
   "metadata": {},
   "outputs": [],
   "source": []
  }
 ],
 "metadata": {
  "kernelspec": {
   "display_name": "Python 3",
   "language": "python",
   "name": "python3"
  },
  "language_info": {
   "codemirror_mode": {
    "name": "ipython",
    "version": 3
   },
   "file_extension": ".py",
   "mimetype": "text/x-python",
   "name": "python",
   "nbconvert_exporter": "python",
   "pygments_lexer": "ipython3",
   "version": "3.7.9"
  }
 },
 "nbformat": 4,
 "nbformat_minor": 5
}
