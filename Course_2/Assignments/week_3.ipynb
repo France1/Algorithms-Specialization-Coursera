{
 "cells": [
  {
   "cell_type": "markdown",
   "metadata": {},
   "source": [
    "### Heap Sort"
   ]
  },
  {
   "cell_type": "code",
   "execution_count": 1,
   "metadata": {},
   "outputs": [
    {
     "data": {
      "text/plain": [
       "[1, 3, 4, 5, 7, 8, 9, 10]"
      ]
     },
     "execution_count": 1,
     "metadata": {},
     "output_type": "execute_result"
    }
   ],
   "source": [
    "import heapq \n",
    "  \n",
    "# initializing list \n",
    "arr = [5, 7, 9, 1, 3, 10, 4, 8] \n",
    " \n",
    "def heap_sort(arr):\n",
    "    # inspired by https://docs.python.org/3/library/heapq.html\n",
    "    n = len(arr)\n",
    "    # using heapify to convert list into heap \n",
    "    heapq.heapify(arr) \n",
    "    # sort array usign extract-min operation\n",
    "    return [heapq.heappop(arr) for i in range(len(arr))]\n",
    "\n",
    "heap_sort(arr)"
   ]
  },
  {
   "cell_type": "markdown",
   "metadata": {},
   "source": [
    "### Heap based Dijkstra Single Shortest Path "
   ]
  },
  {
   "cell_type": "markdown",
   "metadata": {},
   "source": [
    "#### Initialize graph"
   ]
  },
  {
   "cell_type": "code",
   "execution_count": 1,
   "metadata": {},
   "outputs": [],
   "source": [
    "import heapq \n",
    "\n",
    "adj = '''\n",
    "    1 2,1 8,2\n",
    "    2 1,1 3,1\n",
    "    3 2,1 4,1\n",
    "    4 3,1 5,1\n",
    "    5 4,1 6,1\n",
    "    6 5,1 7,1\n",
    "    7 6,1 8,1\n",
    "    8 7,1 1,2\n",
    "'''\n",
    "\n",
    "# adj = '''\n",
    "# 1 2,3 5,5 8,4\n",
    "# 2 5,5 6,7 1,3 3,2\n",
    "# 3 2,2 6,2 7,6 4,3\n",
    "# 4 3,3 7,7 11,2\n",
    "# 5 1,5 2,5 8,7 6,4\n",
    "# 6 5,4 2,7 3,2 7,4 10,3 9,4 8,5\n",
    "# 7 6,4 3,6 4,7 11,6 10,4\n",
    "# 8 1,4 5,7 6,5 9,2\n",
    "# 9 8,2 6,4 10,6\n",
    "# 10 9,6 6,3 7,4 11,5\n",
    "# 11 10,5 7,6 4,2\n",
    "# '''\n",
    "\n",
    "g = {}\n",
    "for l in adj.split('\\n'):\n",
    "    if len(l)>0:\n",
    "        l = l.split()\n",
    "        g[int(l[0])] = []\n",
    "        for e in l[1:]:\n",
    "            e = list(map(int, e.split(',')))\n",
    "            g[int(l[0])].append(tuple(e))\n",
    "            "
   ]
  },
  {
   "cell_type": "markdown",
   "metadata": {},
   "source": [
    "#### Dijkstra Algorithm"
   ]
  },
  {
   "cell_type": "code",
   "execution_count": 2,
   "metadata": {},
   "outputs": [
    {
     "data": {
      "text/plain": [
       "{1: 0, 2: 1, 3: 2, 4: 3, 5: 4, 6: 4, 7: 3, 8: 2}"
      ]
     },
     "execution_count": 2,
     "metadata": {},
     "output_type": "execute_result"
    }
   ],
   "source": [
    "# initialize arrays\n",
    "V = set(g.keys())\n",
    "X = []\n",
    "A = [1000000 for i in range(len(V)+1)] # assign 10^6 to unvisited vertex paths\n",
    "\n",
    "# source node\n",
    "s = 1\n",
    "A[s] = 0\n",
    "\n",
    "# heap := (path_length, node)\n",
    "h = [pair for pair in zip(A[1:],V)]\n",
    "heapq.heapify(h)\n",
    "\n",
    "# iterate through nodes in heap\n",
    "while h:\n",
    "    # extract node with shortest path: w\n",
    "    l_w, w = heapq.heappop(h) # O(log(n))\n",
    "    X.append(w)\n",
    "    # update heap path_length for heads of w\n",
    "    for v,d_vw in g[w]:\n",
    "        if v not in X:\n",
    "            p = (min(A[v],l_w+d_vw), v)\n",
    "            heapq.heappush(h,p) # O(log(n))\n",
    "            A[v] = p[0]\n",
    "\n",
    "# collect results\n",
    "out = {n:l for (n,l) in zip(V,A[1:])}\n",
    "out"
   ]
  },
  {
   "cell_type": "markdown",
   "metadata": {},
   "source": [
    "### Programming Assignment #3"
   ]
  },
  {
   "cell_type": "code",
   "execution_count": 92,
   "metadata": {},
   "outputs": [],
   "source": [
    "# arr = [6,5,4,3,2,1,1,1,1,1]\n",
    "# arr = [1,666,10, 667,100,2,3]\n",
    "# arr = [6331,2793,1640,9290,225,625,6195,2303,5685,1354]\n",
    "\n",
    "arr = []\n",
    "with open('Median.txt') as f:\n",
    "    for l in f:\n",
    "        arr.append(int(l.strip()))\n",
    "\n",
    "low,high = [],[]\n",
    "max_low,min_high = None,None\n",
    "n_low,n_high = 0,0\n",
    "\n",
    "m_sum = 0\n",
    "\n",
    "for i,val in enumerate(arr):\n",
    "    \n",
    "    # store 1st value into low\n",
    "    if i==0:\n",
    "        heapq.heappush(low,-val)\n",
    "        m = -low[0]\n",
    "    \n",
    "    # store 2nd value into high and swap if needed\n",
    "    elif i==1:\n",
    "        heapq.heappush(high,val)\n",
    "        max_low,min_high = -low[0],high[0]\n",
    "        # swap if low is high or viceversa\n",
    "        if max_low>min_high:\n",
    "            max_low,min_high = min_high,max_low\n",
    "            heapq.heappop(low)\n",
    "            heapq.heappop(high)\n",
    "            heapq.heappush(low,-max_low)\n",
    "            heapq.heappush(high,min_high)\n",
    "        m = -low[0]\n",
    "    \n",
    "    # after low and high are initialized\n",
    "    else:       \n",
    "        # push val into heaps\n",
    "        if val <= max_low:\n",
    "            heapq.heappush(low,-val)\n",
    "        elif val >= min_high:\n",
    "            heapq.heappush(high,val)\n",
    "        else:\n",
    "            heapq.heappush(low,-val)        \n",
    "        # rebalance heaps if needed\n",
    "        if len(low)==len(high)+2:\n",
    "            max_low = -heapq.heappop(low)\n",
    "            heapq.heappush(high,max_low)\n",
    "        if len(high)==len(low)+2:\n",
    "            min_high = heapq.heappop(high)\n",
    "            heapq.heappush(low,-min_high)  \n",
    "        # update min_high,max_low\n",
    "        max_low,min_high = -low[0],high[0]    \n",
    "        # select median from min_high,max_low\n",
    "        if len(low)>=len(high):\n",
    "            m = max_low\n",
    "        else:\n",
    "            m = min_high\n",
    "            \n",
    "    m_sum += m\n",
    "              \n",
    "#     print(f'median={m}, low={low}, high={high}, max_low={max_low}, min_high={min_high}')        "
   ]
  },
  {
   "cell_type": "code",
   "execution_count": 93,
   "metadata": {},
   "outputs": [
    {
     "name": "stdout",
     "output_type": "stream",
     "text": [
      "sum of medians modulo 10000 = 1213\n"
     ]
    }
   ],
   "source": [
    "# Assignement results\n",
    "print('sum of medians modulo 10000 =', m_sum % 10000)"
   ]
  }
 ],
 "metadata": {
  "kernelspec": {
   "display_name": "Python 3",
   "language": "python",
   "name": "python3"
  },
  "language_info": {
   "codemirror_mode": {
    "name": "ipython",
    "version": 3
   },
   "file_extension": ".py",
   "mimetype": "text/x-python",
   "name": "python",
   "nbconvert_exporter": "python",
   "pygments_lexer": "ipython3",
   "version": "3.7.9"
  }
 },
 "nbformat": 4,
 "nbformat_minor": 4
}
