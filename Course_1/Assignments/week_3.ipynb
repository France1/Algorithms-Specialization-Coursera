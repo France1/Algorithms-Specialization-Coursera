{
 "cells": [
  {
   "cell_type": "markdown",
   "metadata": {},
   "source": [
    "### Pivot: first array element "
   ]
  },
  {
   "cell_type": "code",
   "execution_count": 32,
   "metadata": {},
   "outputs": [
    {
     "name": "stdout",
     "output_type": "stream",
     "text": [
      "162085\n"
     ]
    }
   ],
   "source": [
    "def partition(arr,l,r):\n",
    "    comp = r-l\n",
    "    p = arr[l]\n",
    "    i = l+1\n",
    "    for j in range(l+1,r+1):\n",
    "        if arr[j]<p:\n",
    "            arr[j],arr[i] = arr[i],arr[j]\n",
    "            i += 1\n",
    "    arr[l],arr[i-1] = arr[i-1],arr[l] \n",
    "    \n",
    "    return i-1, comp\n",
    "\n",
    "def QuickSort(arr,l,r):\n",
    "    global tot\n",
    "    if l>=r:\n",
    "        return   \n",
    "    p, comp = partition(arr,l,r)\n",
    "    tot += comp\n",
    "    QuickSort(arr,l,p-1)\n",
    "    QuickSort(arr,p+1,r)\n",
    "\n",
    "tot = 0\n",
    "\n",
    "# arr = [6,3,10,2,1,5,9,4,7,8]\n",
    "\n",
    "with open('QuickSort.txt') as f:\n",
    "    arr = [int(num) for num in f]\n",
    "    \n",
    "QuickSort(arr,0,len(arr)-1)\n",
    "print(tot)  "
   ]
  },
  {
   "cell_type": "markdown",
   "metadata": {},
   "source": [
    "### Pivot: last array element "
   ]
  },
  {
   "cell_type": "code",
   "execution_count": 33,
   "metadata": {},
   "outputs": [
    {
     "name": "stdout",
     "output_type": "stream",
     "text": [
      "164123\n"
     ]
    }
   ],
   "source": [
    "def QuickSort(arr,l,r):\n",
    "    global tot\n",
    "    if l>=r:\n",
    "        return \n",
    "    # swap first and last element of unseen partition\n",
    "    arr[l],arr[r] = arr[r],arr[l]\n",
    "    p, comp = partition(arr,l,r)\n",
    "    tot += comp\n",
    "    QuickSort(arr,l,p-1)\n",
    "    QuickSort(arr,p+1,r)\n",
    "\n",
    "tot = 0\n",
    "\n",
    "# arr = [6,3,10,2,1,5,9,4,7,8]\n",
    "\n",
    "with open('QuickSort.txt') as f:\n",
    "    arr = [int(num) for num in f]\n",
    "    \n",
    "QuickSort(arr,0,len(arr)-1)\n",
    "print(tot) "
   ]
  },
  {
   "cell_type": "markdown",
   "metadata": {},
   "source": [
    "### Pivot: median of three"
   ]
  },
  {
   "cell_type": "code",
   "execution_count": 43,
   "metadata": {},
   "outputs": [
    {
     "name": "stdout",
     "output_type": "stream",
     "text": [
      "138382\n"
     ]
    }
   ],
   "source": [
    "from statistics import median\n",
    "\n",
    "def QuickSort(arr,l,r):\n",
    "    global tot\n",
    "    if l>=r:\n",
    "        return \n",
    "    # calculate median of three\n",
    "    # check here https://www.coursera.org/learn/algorithms-divide-conquer/discussions/weeks/3/threads/3svB7I86Eee8LxLjS85WxA\n",
    "    if  (r-l-1) % 2 == 0:\n",
    "        m = int(l+(r-l-1)/2)\n",
    "    else:\n",
    "        m = int(l+(r-l)/2)\n",
    "    p = arr.index(median([arr[l],arr[m],arr[r]]))\n",
    "    # swap pivot and first element of unseen partition\n",
    "    arr[l],arr[p] = arr[p],arr[l]\n",
    "    p, comp = partition(arr,l,r)\n",
    "    tot += comp\n",
    "    QuickSort(arr,l,p-1)\n",
    "    QuickSort(arr,p+1,r)\n",
    "\n",
    "tot = 0\n",
    "\n",
    "# arr = [6,3,10,2,1,5,9,4,7,8]\n",
    "\n",
    "with open('QuickSort.txt') as f:\n",
    "    arr = [int(num) for num in f]\n",
    "    \n",
    "QuickSort(arr,0,len(arr)-1)\n",
    "print(tot)"
   ]
  }
 ],
 "metadata": {
  "kernelspec": {
   "display_name": "Python 3",
   "language": "python",
   "name": "python3"
  },
  "language_info": {
   "codemirror_mode": {
    "name": "ipython",
    "version": 3
   },
   "file_extension": ".py",
   "mimetype": "text/x-python",
   "name": "python",
   "nbconvert_exporter": "python",
   "pygments_lexer": "ipython3",
   "version": "3.7.5"
  }
 },
 "nbformat": 4,
 "nbformat_minor": 4
}
